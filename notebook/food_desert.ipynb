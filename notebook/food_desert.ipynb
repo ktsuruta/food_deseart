{
 "cells": [
  {
   "cell_type": "code",
   "execution_count": 9,
   "metadata": {
    "collapsed": true
   },
   "outputs": [
    {
     "name": "stdout",
     "output_type": "stream",
     "text": [
      "    Unnamed: 0  Unnamed: 1   Unnamed: 2   Unnamed: 3  　人口総数  　人口総数　男  　人口総数　女  \\\n0    362257274           0          NaN          NaN     56       56        0   \n1    362257283           0          NaN          NaN     63       63        0   \n2    362257353           1          NaN  362257442.0     27       17       10   \n3    362257381           0          NaN          NaN    102       56       46   \n4    362257382           0          NaN          NaN     32       22       10   \n5    362257442           2  362257353.0          NaN     27       26        1   \n6    362257451           0          NaN          NaN    153       92       61   \n7    362257452           1          NaN  362257454.0    375      246      129   \n8    362257454           2  362257452.0          NaN     11        8        3   \n9    362257564           0          NaN          NaN     24       10       14   \n10   362257584           2  362257593.0          NaN      8        4        4   \n11   362257593           1          NaN  362257584.0      6        4        2   \n12   362257691           2  362257692.0          NaN      3        3        0   \n13   362257692           1          NaN  362257691.0     76       43       33   \n\n   　０〜１４歳人口総数 　０〜１４歳人口　男 　０〜１４歳人口　女      ...      　６人世帯の一般世帯数 　７人以上世帯の一般世帯数  \\\n0           0          0          0      ...                0             0   \n1           0          0          0      ...                0             0   \n2           4          3          1      ...                0             0   \n3          13          4          9      ...                0             1   \n4           5          3          2      ...                1             0   \n5           *          *          *      ...                *             *   \n6          25         14         11      ...                1             2   \n7          42         16         26      ...                2             2   \n8           *          *          *      ...                *             *   \n9           0          0          0      ...                0             0   \n10          *          *          *      ...                *             *   \n11          3          2          1      ...                0             0   \n12          *          *          *      ...                *             *   \n13         10          6          4      ...                0             1   \n\n   　親族のみの一般世帯数 　核家族の一般世帯数 　核家族以外の一般世帯数 　６歳未満世帯員のいる一般世帯数 　６５歳以上世帯員のいる一般世帯数  \\\n0            0          0            0                0                 0   \n1            0          0            0                0                 0   \n2            8          7            1                1                 4   \n3           26         23            3                4                15   \n4            7          5            2                2                 4   \n5            *          *            *                *                 *   \n6           33         25            8                7                21   \n7           68         59            9               13                46   \n8            *          *            *                *                 *   \n9            0          0            0                0                 0   \n10           *          *            *                *                 *   \n11           4          3            1                1                 1   \n12           *          *            *                *                 *   \n13          16         14            2                3                10   \n\n   　世帯主の年齢が２０〜２９歳の１人世帯の一般世帯数 　高齢単身の一般世帯数 　高齢夫婦のみの一般世帯数  \n0                         11           0             0  \n1                          9           0             0  \n2                          3           2             1  \n3                          1           3             3  \n4                          2           1             1  \n5                          *           *             *  \n6                          5           5             4  \n7                         22          23             9  \n8                          *           *             *  \n9                          0           0             0  \n10                         *           *             *  \n11                         0           0             1  \n12                         *           *             *  \n13                         3           4             2  \n\n[14 rows x 45 columns]\n"
     ]
    }
   ],
   "source": [
    "import pandas as pd\n",
    "import os\n",
    "national_census_df = pd.read_csv('data/tblT000847H3622.txt', skiprows=[0])\n",
    "print(national_census_df)"
   ]
  },
  {
   "cell_type": "code",
   "execution_count": 11,
   "metadata": {},
   "outputs": [
    {
     "data": {
      "text/plain": [
       "<bound method NDFrame.head of     Unnamed: 0  Unnamed: 1   Unnamed: 2   Unnamed: 3  　人口総数  　人口総数　男  　人口総数　女  \\\n0    362257274           0          NaN          NaN     56       56        0   \n1    362257283           0          NaN          NaN     63       63        0   \n2    362257353           1          NaN  362257442.0     27       17       10   \n3    362257381           0          NaN          NaN    102       56       46   \n4    362257382           0          NaN          NaN     32       22       10   \n5    362257442           2  362257353.0          NaN     27       26        1   \n6    362257451           0          NaN          NaN    153       92       61   \n7    362257452           1          NaN  362257454.0    375      246      129   \n8    362257454           2  362257452.0          NaN     11        8        3   \n9    362257564           0          NaN          NaN     24       10       14   \n10   362257584           2  362257593.0          NaN      8        4        4   \n11   362257593           1          NaN  362257584.0      6        4        2   \n12   362257691           2  362257692.0          NaN      3        3        0   \n13   362257692           1          NaN  362257691.0     76       43       33   \n\n   　０〜１４歳人口総数 　０〜１４歳人口　男 　０〜１４歳人口　女      ...      　６人世帯の一般世帯数 　７人以上世帯の一般世帯数  \\\n0           0          0          0      ...                0             0   \n1           0          0          0      ...                0             0   \n2           4          3          1      ...                0             0   \n3          13          4          9      ...                0             1   \n4           5          3          2      ...                1             0   \n5           *          *          *      ...                *             *   \n6          25         14         11      ...                1             2   \n7          42         16         26      ...                2             2   \n8           *          *          *      ...                *             *   \n9           0          0          0      ...                0             0   \n10          *          *          *      ...                *             *   \n11          3          2          1      ...                0             0   \n12          *          *          *      ...                *             *   \n13         10          6          4      ...                0             1   \n\n   　親族のみの一般世帯数 　核家族の一般世帯数 　核家族以外の一般世帯数 　６歳未満世帯員のいる一般世帯数 　６５歳以上世帯員のいる一般世帯数  \\\n0            0          0            0                0                 0   \n1            0          0            0                0                 0   \n2            8          7            1                1                 4   \n3           26         23            3                4                15   \n4            7          5            2                2                 4   \n5            *          *            *                *                 *   \n6           33         25            8                7                21   \n7           68         59            9               13                46   \n8            *          *            *                *                 *   \n9            0          0            0                0                 0   \n10           *          *            *                *                 *   \n11           4          3            1                1                 1   \n12           *          *            *                *                 *   \n13          16         14            2                3                10   \n\n   　世帯主の年齢が２０〜２９歳の１人世帯の一般世帯数 　高齢単身の一般世帯数 　高齢夫婦のみの一般世帯数  \n0                         11           0             0  \n1                          9           0             0  \n2                          3           2             1  \n3                          1           3             3  \n4                          2           1             1  \n5                          *           *             *  \n6                          5           5             4  \n7                         22          23             9  \n8                          *           *             *  \n9                          0           0             0  \n10                         *           *             *  \n11                         0           0             1  \n12                         *           *             *  \n13                         3           4             2  \n\n[14 rows x 45 columns]>"
      ]
     },
     "execution_count": 11,
     "metadata": {},
     "output_type": "execute_result"
    }
   ],
   "source": [
    "national_census_df.kkj"
   ]
  },
  {
   "cell_type": "code",
   "execution_count": null,
   "metadata": {},
   "outputs": [],
   "source": []
  }
 ],
 "metadata": {
  "kernelspec": {
   "display_name": "Python 2",
   "language": "python",
   "name": "python2"
  },
  "language_info": {
   "codemirror_mode": {
    "name": "ipython",
    "version": 2
   },
   "file_extension": ".py",
   "mimetype": "text/x-python",
   "name": "python",
   "nbconvert_exporter": "python",
   "pygments_lexer": "ipython2",
   "version": "2.7.6"
  }
 },
 "nbformat": 4,
 "nbformat_minor": 0
}
